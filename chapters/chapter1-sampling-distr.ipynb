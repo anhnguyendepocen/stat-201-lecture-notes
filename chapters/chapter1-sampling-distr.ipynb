{
 "cells": [
  {
   "cell_type": "markdown",
   "id": "ready-breath",
   "metadata": {},
   "source": [
    "# Chapter 1: Population, sample, and sampling variability"
   ]
  },
  {
   "cell_type": "markdown",
   "id": "unlikely-blame",
   "metadata": {},
   "source": []
  },
  {
   "cell_type": "markdown",
   "id": "macro-charger",
   "metadata": {},
   "source": [
    "## Population"
   ]
  },
  {
   "cell_type": "code",
   "execution_count": 7,
   "id": "operational-segment",
   "metadata": {},
   "outputs": [
    {
     "data": {
      "application/javascript": [
       "alert(\"hello\");"
      ]
     },
     "metadata": {},
     "output_type": "display_data"
    }
   ],
   "source": [
    "IRdisplay::display_javascript('alert(\"hello\");')"
   ]
  },
  {
   "cell_type": "markdown",
   "id": "dependent-driver",
   "metadata": {},
   "source": [
    "```{admonition} Population\n",
    "An example of an admonition with a title.\n",
    "```\n"
   ]
  },
  {
   "cell_type": "markdown",
   "id": "chronic-plymouth",
   "metadata": {},
   "source": [
    "```{admonition} Population Distribution\n",
    "An example of an admonition with a title.\n",
    "```\n"
   ]
  },
  {
   "cell_type": "markdown",
   "id": "legitimate-kinase",
   "metadata": {},
   "source": [
    "```{admonition} Parameter\n",
    "An example of an admonition with a title.\n",
    "```\n"
   ]
  },
  {
   "cell_type": "markdown",
   "id": "leading-powder",
   "metadata": {},
   "source": []
  },
  {
   "cell_type": "markdown",
   "id": "brilliant-converter",
   "metadata": {},
   "source": [
    "## Sample"
   ]
  },
  {
   "cell_type": "markdown",
   "id": "technical-crash",
   "metadata": {},
   "source": [
    "```{admonition} Sample\n",
    "An example of an admonition with a title.\n",
    "```\n"
   ]
  },
  {
   "cell_type": "markdown",
   "id": "confidential-marble",
   "metadata": {},
   "source": [
    "```{admonition} Statistic\n",
    "An example of an admonition with a title.\n",
    "```\n"
   ]
  },
  {
   "cell_type": "markdown",
   "id": "focal-provider",
   "metadata": {},
   "source": [
    "```{admonition} Estimator\n",
    "An example of an admonition with a title.\n",
    "```\n"
   ]
  },
  {
   "cell_type": "markdown",
   "id": "numerous-terrorism",
   "metadata": {},
   "source": [
    "```{admonition} Estimate\n",
    "An example of an admonition with a title.\n",
    "```\n"
   ]
  },
  {
   "cell_type": "markdown",
   "id": "administrative-danish",
   "metadata": {},
   "source": [
    "```{admonition} Sample distribution\n",
    "An example of an admonition with a title.\n",
    "```\n"
   ]
  },
  {
   "cell_type": "markdown",
   "id": "future-burton",
   "metadata": {},
   "source": [
    "## Sampling Distribution"
   ]
  },
  {
   "cell_type": "markdown",
   "id": "celtic-handy",
   "metadata": {},
   "source": [
    "different samples give different estimates, therefore we need to study the distribution of these estimates across all possible samples."
   ]
  },
  {
   "cell_type": "markdown",
   "id": "swedish-evans",
   "metadata": {},
   "source": [
    "```{admonition} Sampling distribution\n",
    "An example of an admonition with a title.\n",
    "```"
   ]
  },
  {
   "cell_type": "markdown",
   "id": "connected-basic",
   "metadata": {},
   "source": [
    "### There are uncertainty that stems from the population too"
   ]
  },
  {
   "cell_type": "markdown",
   "id": "healthy-board",
   "metadata": {},
   "source": [
    "Suppose that we are going to take on individual from the population at random, what is the probability that the variable is between $a$ and $b$? This uncertainty comes from the population itself. Even if you knew the entire population, you couldn't be able to answer this question with certainty, because the individuals of your population also vary. "
   ]
  }
 ],
 "metadata": {
  "kernelspec": {
   "display_name": "R",
   "language": "R",
   "name": "ir"
  },
  "language_info": {
   "codemirror_mode": "r",
   "file_extension": ".r",
   "mimetype": "text/x-r-source",
   "name": "R",
   "pygments_lexer": "r",
   "version": "4.1.0"
  }
 },
 "nbformat": 4,
 "nbformat_minor": 5
}

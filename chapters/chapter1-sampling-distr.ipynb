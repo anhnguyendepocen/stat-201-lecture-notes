{
 "cells": [
  {
   "cell_type": "markdown",
   "id": "other-tackle",
   "metadata": {},
   "source": [
    "# Chapter 1: Population, sample, and sampling variability"
   ]
  },
  {
   "cell_type": "markdown",
   "id": "sensitive-christianity",
   "metadata": {},
   "source": []
  },
  {
   "cell_type": "markdown",
   "id": "collect-premiere",
   "metadata": {},
   "source": [
    "## Population"
   ]
  },
  {
   "cell_type": "markdown",
   "id": "convinced-maryland",
   "metadata": {},
   "source": []
  },
  {
   "cell_type": "markdown",
   "id": "remarkable-chambers",
   "metadata": {},
   "source": [
    "```{admonition} Population\n",
    "An example of an admonition with a title.\n",
    "```\n"
   ]
  },
  {
   "cell_type": "markdown",
   "id": "considered-operator",
   "metadata": {},
   "source": [
    "```{admonition} Population Distribution\n",
    "An example of an admonition with a title.\n",
    "```\n"
   ]
  },
  {
   "cell_type": "markdown",
   "id": "clinical-cursor",
   "metadata": {},
   "source": [
    "```{admonition} Parameter\n",
    "An example of an admonition with a title.\n",
    "```\n"
   ]
  },
  {
   "cell_type": "markdown",
   "id": "academic-fifty",
   "metadata": {},
   "source": []
  },
  {
   "cell_type": "markdown",
   "id": "verbal-specific",
   "metadata": {},
   "source": [
    "## Sample"
   ]
  },
  {
   "cell_type": "markdown",
   "id": "purple-eagle",
   "metadata": {},
   "source": [
    "```{admonition} Sample\n",
    "An example of an admonition with a title.\n",
    "```\n"
   ]
  },
  {
   "cell_type": "markdown",
   "id": "magnetic-programming",
   "metadata": {},
   "source": [
    "```{admonition} Statistic\n",
    "An example of an admonition with a title.\n",
    "```\n"
   ]
  },
  {
   "cell_type": "markdown",
   "id": "awful-cholesterol",
   "metadata": {},
   "source": [
    "```{admonition} Estimator\n",
    "An example of an admonition with a title.\n",
    "```\n"
   ]
  },
  {
   "cell_type": "markdown",
   "id": "composite-applicant",
   "metadata": {},
   "source": [
    "```{admonition} Estimate\n",
    "An example of an admonition with a title.\n",
    "```\n"
   ]
  },
  {
   "cell_type": "markdown",
   "id": "civic-right",
   "metadata": {},
   "source": [
    "```{admonition} Sample distribution\n",
    "An example of an admonition with a title.\n",
    "```\n"
   ]
  },
  {
   "cell_type": "markdown",
   "id": "ceramic-weapon",
   "metadata": {},
   "source": [
    "## Sampling Distribution"
   ]
  },
  {
   "cell_type": "markdown",
   "id": "hazardous-river",
   "metadata": {},
   "source": [
    "different samples give different estimates, therefore we need to study the distribution of these estimates across all possible samples."
   ]
  },
  {
   "cell_type": "markdown",
   "id": "connected-zambia",
   "metadata": {},
   "source": [
    "```{admonition} Sampling distribution\n",
    "An example of an admonition with a title.\n",
    "```"
   ]
  },
  {
   "cell_type": "markdown",
   "id": "religious-geneva",
   "metadata": {},
   "source": [
    "### There are uncertainty that stems from the population too"
   ]
  },
  {
   "cell_type": "markdown",
   "id": "tight-sheffield",
   "metadata": {},
   "source": [
    "Suppose that we are going to take on individual from the population at random, what is the probability that the variable is between $a$ and $b$? This uncertainty comes from the population itself. Even if you knew the entire population, you couldn't be able to answer this question with certainty, because the individuals of your population also vary. "
   ]
  }
 ],
 "metadata": {
  "kernelspec": {
   "display_name": "Python 3",
   "language": "python",
   "name": "python3"
  },
  "language_info": {
   "codemirror_mode": {
    "name": "ipython",
    "version": 3
   },
   "file_extension": ".py",
   "mimetype": "text/x-python",
   "name": "python",
   "nbconvert_exporter": "python",
   "pygments_lexer": "ipython3",
   "version": "3.8.5"
  }
 },
 "nbformat": 4,
 "nbformat_minor": 5
}

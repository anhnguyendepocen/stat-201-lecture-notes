{
 "cells": [
  {
   "cell_type": "markdown",
   "id": "widespread-badge",
   "metadata": {},
   "source": [
    "# Chapter 1: Population, sample, and sampling variability"
   ]
  },
  {
   "cell_type": "markdown",
   "id": "willing-gibson",
   "metadata": {},
   "source": []
  },
  {
   "cell_type": "markdown",
   "id": "dependent-indication",
   "metadata": {},
   "source": [
    "## Population"
   ]
  },
  {
   "cell_type": "markdown",
   "id": "authentic-income",
   "metadata": {},
   "source": []
  },
  {
   "cell_type": "markdown",
   "id": "modular-amendment",
   "metadata": {},
   "source": [
    "```{admonition} Population\n",
    "An example of an admonition with a title.\n",
    "```\n"
   ]
  },
  {
   "cell_type": "markdown",
   "id": "surprising-edmonton",
   "metadata": {},
   "source": [
    "```{admonition} Population Distribution\n",
    "An example of an admonition with a title.\n",
    "```\n"
   ]
  },
  {
   "cell_type": "markdown",
   "id": "daily-spirituality",
   "metadata": {},
   "source": [
    "```{admonition} Parameter\n",
    "An example of an admonition with a title.\n",
    "```\n"
   ]
  },
  {
   "cell_type": "markdown",
   "id": "minimal-commodity",
   "metadata": {},
   "source": []
  },
  {
   "cell_type": "markdown",
   "id": "common-bermuda",
   "metadata": {},
   "source": [
    "## Sample"
   ]
  },
  {
   "cell_type": "markdown",
   "id": "earlier-record",
   "metadata": {},
   "source": [
    "```{admonition} Sample\n",
    "An example of an admonition with a title.\n",
    "```\n"
   ]
  },
  {
   "cell_type": "markdown",
   "id": "crazy-resolution",
   "metadata": {},
   "source": [
    "```{admonition} Statistic\n",
    "An example of an admonition with a title.\n",
    "```\n"
   ]
  },
  {
   "cell_type": "markdown",
   "id": "nonprofit-flower",
   "metadata": {},
   "source": [
    "```{admonition} Estimator\n",
    "An example of an admonition with a title.\n",
    "```\n"
   ]
  },
  {
   "cell_type": "markdown",
   "id": "ranging-sender",
   "metadata": {},
   "source": [
    "```{admonition} Estimate\n",
    "An example of an admonition with a title.\n",
    "```\n"
   ]
  },
  {
   "cell_type": "markdown",
   "id": "geological-transmission",
   "metadata": {},
   "source": [
    "```{admonition} Sample distribution\n",
    "An example of an admonition with a title.\n",
    "```\n"
   ]
  },
  {
   "cell_type": "markdown",
   "id": "outdoor-medicare",
   "metadata": {},
   "source": [
    "## Sampling Distribution"
   ]
  },
  {
   "cell_type": "markdown",
   "id": "ongoing-soviet",
   "metadata": {},
   "source": [
    "different samples give different estimates, therefore we need to study the distribution of these estimates across all possible samples."
   ]
  },
  {
   "cell_type": "markdown",
   "id": "collectible-manufacturer",
   "metadata": {},
   "source": [
    "```{admonition} Sampling distribution\n",
    "An example of an admonition with a title.\n",
    "```"
   ]
  },
  {
   "cell_type": "markdown",
   "id": "naval-locator",
   "metadata": {},
   "source": [
    "### There are uncertainty that stems from the population too"
   ]
  },
  {
   "cell_type": "markdown",
   "id": "loaded-remedy",
   "metadata": {},
   "source": [
    "Suppose that we are going to take on individual from the population at random, what is the probability that the variable is between $a$ and $b$? This uncertainty comes from the population itself. Even if you knew the entire population, you couldn't be able to answer this question with certainty, because the individuals of your population also vary. "
   ]
  }
 ],
 "metadata": {
  "kernelspec": {
   "display_name": "R",
   "language": "R",
   "name": "ir"
  },
  "language_info": {
   "codemirror_mode": {
    "name": "ipython",
    "version": 3
   },
   "file_extension": ".py",
   "mimetype": "text/x-python",
   "name": "python",
   "nbconvert_exporter": "python",
   "pygments_lexer": "ipython3",
   "version": "3.8.5"
  }
 },
 "nbformat": 4,
 "nbformat_minor": 5
}

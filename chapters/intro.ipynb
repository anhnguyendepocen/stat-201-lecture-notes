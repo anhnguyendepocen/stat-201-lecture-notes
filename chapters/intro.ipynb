{
 "cells": [
  {
   "cell_type": "code",
   "execution_count": 1,
   "id": "genuine-enterprise",
   "metadata": {
    "tags": [
     "hide-input"
    ]
   },
   "outputs": [],
   "source": [
    "suppressMessages(library(tidyverse))"
   ]
  },
  {
   "cell_type": "markdown",
   "id": "endangered-future",
   "metadata": {},
   "source": [
    "# Introduction"
   ]
  },
  {
   "cell_type": "markdown",
   "id": "lovely-gibson",
   "metadata": {},
   "source": [
    "The discipline of statistics is concerned with proper analysis and description of data, helping people to make better-informed decisions, and reducing the chances of making false claims. Our brain tries to find patterns everywhere, and we frequently jump to conclusions. A proper data analysis requires us to consider the variability of the data, the way the data was collected, the relationship between variables, the type of questions we are trying to answer, and so on. It is not a trivial task at all! In fact, even with the field of statistics as advanced as it is, there are still many discussions that statistical methods have not settled. Why is that? In some cases, we fail to get a complete picture from all angles of a problem. By only analyzing partial information, different people can reach different conclusions, and both might be coherent. After all, partial information can be ambiguous: \n",
    "\n",
    "<figure class=\"plot\">\n",
    "    <center>\n",
    "    <img src=\"https://upload.wikimedia.org/wikipedia/commons/4/45/Duck-Rabbit_illusion.jpg\" width=\"400px\">\n",
    "        <figcaption>Figure 1: Duck or Rabbit?<br> <div style=\"font-size:10px\">Source: <a href=\"https://commons.wikimedia.org/wiki/Category:Rabbit%E2%80%93duck_illusion#/media/File:Duck-Rabbit_illusion.jpg\">Wikimedia Commons</a></div> </figcaption>\n",
    "        </center>\n",
    "</figure>\n",
    "\n",
    "A classic example of these problems was discussed in _Sex Bias in Graduate Admissions: Data from Berkeley_ study by Prof. Bickel, Prof. Hammel, and Mr. O'Connell {cite}`Bickel75`. They considered 12,763 applications to 101 graduate programs at the University of Berkeley and wanted to answer whether the sex of the applicant had any influence in the decision to admit or reject the applicant. Table 1 shows the data collected.\n",
    "\n",
    "```{list-table} Applicants to Berkeley's graduate programs in 1973\n",
    "    :header-rows: 1\n",
    "    :align: center\n",
    "\n",
    "   * - Applicant\n",
    "     - Admitted\n",
    "     - Rejected\n",
    "     - Total\n",
    "   * - Male\n",
    "     - 3738\n",
    "     - 4704\n",
    "     - 8442\n",
    "   * - Female\n",
    "     - 1494\n",
    "     - 2827\n",
    "     - 4321\n",
    "   * - **Total**\n",
    "     - 5232\n",
    "     - 7531\n",
    "     - 12,763\n",
    "```\n",
    "\n",
    "\n",
    "\n",
    "\n",
    "Besides all these aspects, we need to consider the fact that there is randomness associated with the applicants. Is this difference expected due to the sampling variability, or is it too unlikely to be due sampling variability alone?"
   ]
  },
  {
   "cell_type": "markdown",
   "id": "generous-campbell",
   "metadata": {},
   "source": [
    "## What is statistical inference?"
   ]
  },
  {
   "cell_type": "markdown",
   "id": "brave-fraud",
   "metadata": {},
   "source": [
    "# References\n",
    "\n",
    "```{bibliography}\n",
    ":style: unsrt\n",
    "```"
   ]
  }
 ],
 "metadata": {
  "kernelspec": {
   "display_name": "R",
   "language": "R",
   "name": "ir"
  },
  "language_info": {
   "codemirror_mode": "r",
   "file_extension": ".r",
   "mimetype": "text/x-r-source",
   "name": "R",
   "pygments_lexer": "r",
   "version": "4.0.5"
  }
 },
 "nbformat": 4,
 "nbformat_minor": 5
}

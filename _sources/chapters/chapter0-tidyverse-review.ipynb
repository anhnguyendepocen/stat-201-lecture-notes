{
 "cells": [
  {
   "cell_type": "markdown",
   "id": "developing-baltimore",
   "metadata": {},
   "source": [
    "# A quick tidyverse review "
   ]
  },
  {
   "cell_type": "markdown",
   "id": "alleged-attempt",
   "metadata": {},
   "source": [
    "## Arrays"
   ]
  },
  {
   "cell_type": "markdown",
   "id": "virgin-hopkins",
   "metadata": {},
   "source": [
    "## Tibble"
   ]
  },
  {
   "cell_type": "markdown",
   "id": "dated-membrane",
   "metadata": {},
   "source": [
    "## Tidyverse verbs"
   ]
  },
  {
   "cell_type": "markdown",
   "id": "buried-museum",
   "metadata": {},
   "source": [
    "### `select`"
   ]
  },
  {
   "cell_type": "markdown",
   "id": "civil-emphasis",
   "metadata": {},
   "source": [
    "### `filter`"
   ]
  },
  {
   "cell_type": "markdown",
   "id": "residential-liquid",
   "metadata": {},
   "source": [
    "### `mutate`"
   ]
  },
  {
   "cell_type": "markdown",
   "id": "frozen-insurance",
   "metadata": {},
   "source": [
    "### `rename`"
   ]
  },
  {
   "cell_type": "markdown",
   "id": "third-configuration",
   "metadata": {},
   "source": [
    "### `group_by`"
   ]
  },
  {
   "cell_type": "markdown",
   "id": "knowing-limitation",
   "metadata": {},
   "source": [
    "### `summarise`"
   ]
  },
  {
   "cell_type": "markdown",
   "id": "environmental-rochester",
   "metadata": {},
   "source": [
    "## ggplot2"
   ]
  },
  {
   "cell_type": "markdown",
   "id": "medieval-edinburgh",
   "metadata": {},
   "source": [
    "## Factors"
   ]
  },
  {
   "cell_type": "markdown",
   "id": "destroyed-glasgow",
   "metadata": {},
   "source": [
    "## Mapping and nested data frames"
   ]
  },
  {
   "cell_type": "code",
   "execution_count": null,
   "id": "cordless-binary",
   "metadata": {},
   "outputs": [],
   "source": []
  }
 ],
 "metadata": {
  "kernelspec": {
   "display_name": "Python 3",
   "language": "python",
   "name": "python3"
  },
  "language_info": {
   "codemirror_mode": {
    "name": "ipython",
    "version": 3
   },
   "file_extension": ".py",
   "mimetype": "text/x-python",
   "name": "python",
   "nbconvert_exporter": "python",
   "pygments_lexer": "ipython3",
   "version": "3.8.5"
  }
 },
 "nbformat": 4,
 "nbformat_minor": 5
}

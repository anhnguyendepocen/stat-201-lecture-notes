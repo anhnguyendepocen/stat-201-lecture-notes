{
 "cells": [
  {
   "cell_type": "markdown",
   "id": "caroline-campus",
   "metadata": {},
   "source": [
    "# Chapter 1: Population, sample, and sampling variability"
   ]
  },
  {
   "cell_type": "markdown",
   "id": "mobile-phenomenon",
   "metadata": {},
   "source": [
    "## Population"
   ]
  },
  {
   "cell_type": "markdown",
   "id": "thirty-precipitation",
   "metadata": {},
   "source": [
    "```{admonition} My definition\n",
    "An example of an admonition with a title.\n",
    "```\n"
   ]
  },
  {
   "cell_type": "code",
   "execution_count": null,
   "id": "private-algorithm",
   "metadata": {},
   "outputs": [],
   "source": []
  }
 ],
 "metadata": {
  "kernelspec": {
   "display_name": "Python 3",
   "language": "python",
   "name": "python3"
  },
  "language_info": {
   "codemirror_mode": {
    "name": "ipython",
    "version": 3
   },
   "file_extension": ".py",
   "mimetype": "text/x-python",
   "name": "python",
   "nbconvert_exporter": "python",
   "pygments_lexer": "ipython3",
   "version": "3.8.5"
  }
 },
 "nbformat": 4,
 "nbformat_minor": 5
}
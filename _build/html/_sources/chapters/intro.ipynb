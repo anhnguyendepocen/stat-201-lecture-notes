{
 "cells": [
  {
   "cell_type": "markdown",
   "id": "controlled-hunger",
   "metadata": {},
   "source": [
    "# Introduction"
   ]
  },
  {
   "cell_type": "code",
   "execution_count": 1,
   "id": "trying-excuse",
   "metadata": {
    "tags": [
     "hide-input"
    ]
   },
   "outputs": [],
   "source": [
    "suppressMessages(library(tidyverse))"
   ]
  },
  {
   "cell_type": "markdown",
   "id": "developmental-investigation",
   "metadata": {},
   "source": [
    "The discipline of statistics is concerned with proper analysis and description of data, helping people to make better-informed decisions, and reducing the chances of making false claims. Our brain tries to find patterns everywhere, and we frequently jump to conclusions. A proper data analysis requires us to consider the variability of the data, the way the data was collected, the relationship between variables, the type of questions we are trying to answer, and so on. It is not a trivial task at all! In fact, even with the field of statistics as advanced as it is, there are still many discussions that statistical methods have not settled. Why is that? In some cases, we fail to get a complete picture from all angles of a problem. By only analyzing partial information, different people can reach different conclusions, and both might be coherent. After all, partial information can be ambiguous: \n",
    "\n",
    "<figure class=\"plot\">\n",
    "    <center>\n",
    "    <img src=\"https://upload.wikimedia.org/wikipedia/commons/4/45/Duck-Rabbit_illusion.jpg\" width=\"400px\">\n",
    "        <figcaption>Figure 1: Duck or Rabbit?<br> <div style=\"font-size:10px\">Source: <a href=\"https://commons.wikimedia.org/wiki/Category:Rabbit%E2%80%93duck_illusion#/media/File:Duck-Rabbit_illusion.jpg\">Wikimedia Commons</a></div> </figcaption>\n",
    "        </center>\n",
    "</figure>\n",
    "\n",
    "A classic example of these problems was discussed in _Sex Bias in Graduate Admissions: Data from Berkeley_ study by Prof. Bickel, Prof. Hammel, and Mr. O'Connell {cite}`Bickel75`. They considered 12,763 applications to 101 graduate programs at the University of Berkeley and wanted to answer whether the sex of the applicant had any influence in the decision to admit or reject the applicant. Table 1 shows the data collected.\n",
    "\n",
    "```{list-table} Applicants to Berkeley's graduate programs in 1973\n",
    "    :header-rows: 1\n",
    "    :align: center\n",
    "    :name: berkeley-table\n",
    "\n",
    "   * - Applicant\n",
    "     - Admitted\n",
    "     - Rejected\n",
    "     - Total\n",
    "   * - Male\n",
    "     - 3738\n",
    "     - 4704\n",
    "     - 8442\n",
    "   * - Female\n",
    "     - 1494\n",
    "     - 2827\n",
    "     - 4321\n",
    "   * - **Total**\n",
    "     - 5232\n",
    "     - 7531\n",
    "     - 12,763\n",
    "```\n",
    "\n",
    "From {numref}`berkeley-table`, we can see that out of 8,442 male applicants 4,704 have been rejected, corresponding to a rejection of approximately 56% of the male applicants; whereas approximately 65% of the female applicants were rejected. Therefore, there was a 9% difference between the rejection of male applicants and the rejection of female applicant. One might mistakenly see this as evidence that there was bias against women. \n",
    "There are two problems with such conclusion, that we shall now discuss. \n",
    "\n",
    "## Problem 1: Not seeing the full picture.\n",
    "\n",
    "The candidates considered applied to 101 graduate programs. By aggregating the results of all programs, we are losing some important information. There are two other questions that can deeply affect the analysis: \n",
    "    1. Do different programs have the same rejection rate of applicants?\n",
    "    2. Are the proportions of males and females applicants similar over all the departments? \n",
    "\n",
    "The answer for these questions can be easily verified if we have access to the right data. The challenging part is not verifying these assumptions after collecting the data, it is to think of these underlying aspects, so we can collect the right data in the first place. \n",
    "\n",
    "The authors of the study states, for example, that 66% of applicants to English were women, whereas only 2% of applicants to mechanical engineering were women. Therefore, they showed that males and females applicants seek different programs. Now, if the departments have different rejection rates, and most females applicants applied to harder-to-get-in programs, that could explain the difference witnessed in the aggregated data. \n",
    "\n",
    "## Problem 2: Sampling Variability.\n",
    "\n",
    "By just comparing the difference obtained in this particular year, one is ignoring the variability between years. It is very plausible that in some years there might be a few more qualified women applicants than males applicants. In other years the opposite might be true. Due to this, even if there is no bias, we expect to see some differences between the rejection rates of female applicants and male applicants. Therefore, we should not immediately conclude that there is bias based only in the absolute difference we are witnessing in a given dataset. But, then, what should we consider a tiny difference? How large the difference must be for us to conclude that there is in fact bias: 0.1%? 0.5%? 1%? 5%? 10%? 50%? What this number should be? Statistical inference will provide a reasonable way for us to answer this question! (Note: the authors of the study did consider this and applied techniques that you are going to learn later in this book.) \n",
    "\n",
    "\n",
    "Besides all these aspects, we need to consider the fact that there is randomness associated with the applicants. Is this difference expected due to the sampling variability, or is it too unlikely to be due sampling variability alone?"
   ]
  },
  {
   "cell_type": "markdown",
   "id": "forbidden-chrome",
   "metadata": {},
   "source": [
    "## What is statistical inference?"
   ]
  },
  {
   "cell_type": "code",
   "execution_count": 3,
   "id": "pleasant-union",
   "metadata": {},
   "outputs": [
    {
     "data": {
      "text/html": [
       "0.557213930348259"
      ],
      "text/latex": [
       "0.557213930348259"
      ],
      "text/markdown": [
       "0.557213930348259"
      ],
      "text/plain": [
       "[1] 0.5572139"
      ]
     },
     "metadata": {},
     "output_type": "display_data"
    }
   ],
   "source": [
    "4704/8442"
   ]
  },
  {
   "cell_type": "code",
   "execution_count": 4,
   "id": "smart-departure",
   "metadata": {},
   "outputs": [
    {
     "data": {
      "text/html": [
       "0.65424670215228"
      ],
      "text/latex": [
       "0.65424670215228"
      ],
      "text/markdown": [
       "0.65424670215228"
      ],
      "text/plain": [
       "[1] 0.6542467"
      ]
     },
     "metadata": {},
     "output_type": "display_data"
    }
   ],
   "source": [
    "2827/4321"
   ]
  },
  {
   "cell_type": "markdown",
   "id": "talented-asset",
   "metadata": {},
   "source": [
    "# References\n",
    "\n",
    "```{bibliography}\n",
    ":style: unsrt\n",
    "```"
   ]
  }
 ],
 "metadata": {
  "kernelspec": {
   "display_name": "R",
   "language": "R",
   "name": "ir"
  },
  "language_info": {
   "codemirror_mode": "r",
   "file_extension": ".r",
   "mimetype": "text/x-r-source",
   "name": "R",
   "pygments_lexer": "r",
   "version": "4.0.5"
  }
 },
 "nbformat": 4,
 "nbformat_minor": 5
}

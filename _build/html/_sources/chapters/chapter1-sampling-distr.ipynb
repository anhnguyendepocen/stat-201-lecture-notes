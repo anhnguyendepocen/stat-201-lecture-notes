{
 "cells": [
  {
   "cell_type": "markdown",
   "id": "organized-council",
   "metadata": {},
   "source": [
    "# Chapter 1: Population, sample, and sampling variability"
   ]
  },
  {
   "cell_type": "markdown",
   "id": "round-winning",
   "metadata": {},
   "source": []
  },
  {
   "cell_type": "markdown",
   "id": "empirical-submission",
   "metadata": {},
   "source": [
    "## Population"
   ]
  },
  {
   "cell_type": "markdown",
   "id": "unique-laugh",
   "metadata": {},
   "source": [
    "```{admonition} Population\n",
    "An example of an admonition with a title.\n",
    "```\n"
   ]
  },
  {
   "cell_type": "markdown",
   "id": "mineral-country",
   "metadata": {},
   "source": [
    "```{admonition} Population Distribution\n",
    "An example of an admonition with a title.\n",
    "```\n"
   ]
  },
  {
   "cell_type": "markdown",
   "id": "broadband-mailman",
   "metadata": {},
   "source": [
    "```{admonition} Parameter\n",
    "An example of an admonition with a title.\n",
    "```\n"
   ]
  },
  {
   "cell_type": "markdown",
   "id": "arranged-lightweight",
   "metadata": {},
   "source": []
  },
  {
   "cell_type": "markdown",
   "id": "hispanic-sharing",
   "metadata": {},
   "source": [
    "## Sample"
   ]
  },
  {
   "cell_type": "markdown",
   "id": "joined-sustainability",
   "metadata": {},
   "source": [
    "```{admonition} Sample\n",
    "An example of an admonition with a title.\n",
    "```\n"
   ]
  },
  {
   "cell_type": "markdown",
   "id": "obvious-intranet",
   "metadata": {},
   "source": [
    "```{admonition} Statistic\n",
    "An example of an admonition with a title.\n",
    "```\n"
   ]
  },
  {
   "cell_type": "markdown",
   "id": "invalid-signature",
   "metadata": {},
   "source": [
    "```{admonition} Estimator\n",
    "An example of an admonition with a title.\n",
    "```\n"
   ]
  },
  {
   "cell_type": "markdown",
   "id": "incredible-orlando",
   "metadata": {},
   "source": [
    "```{admonition} Estimate\n",
    "An example of an admonition with a title.\n",
    "```\n"
   ]
  },
  {
   "cell_type": "markdown",
   "id": "superb-universal",
   "metadata": {},
   "source": [
    "```{admonition} Sample distribution\n",
    "An example of an admonition with a title.\n",
    "```\n"
   ]
  },
  {
   "cell_type": "markdown",
   "id": "blessed-graphic",
   "metadata": {},
   "source": [
    "## Sampling Distribution"
   ]
  },
  {
   "cell_type": "markdown",
   "id": "ethical-shell",
   "metadata": {},
   "source": [
    "different samples give different estimates, therefore we need to study the distribution of these estimates across all possible samples."
   ]
  },
  {
   "cell_type": "markdown",
   "id": "standing-marketplace",
   "metadata": {},
   "source": [
    "```{admonition} Sampling distribution\n",
    "An example of an admonition with a title.\n",
    "```"
   ]
  },
  {
   "cell_type": "markdown",
   "id": "consolidated-garlic",
   "metadata": {},
   "source": [
    "### There are uncertainty that stems from the population too"
   ]
  },
  {
   "cell_type": "markdown",
   "id": "fifteen-converter",
   "metadata": {},
   "source": [
    "Suppose that we are going to take on individual from the population at random, what is the probability that the variable is between $a$ and $b$? This uncertainty comes from the population itself. Even if you knew the entire population, you couldn't be able to answer this question with certainty, because the individuals of your population also vary. "
   ]
  }
 ],
 "metadata": {
  "kernelspec": {
   "display_name": "Python 3",
   "language": "python",
   "name": "python3"
  },
  "language_info": {
   "codemirror_mode": {
    "name": "ipython",
    "version": 3
   },
   "file_extension": ".py",
   "mimetype": "text/x-python",
   "name": "python",
   "nbconvert_exporter": "python",
   "pygments_lexer": "ipython3",
   "version": "3.8.5"
  }
 },
 "nbformat": 4,
 "nbformat_minor": 5
}
